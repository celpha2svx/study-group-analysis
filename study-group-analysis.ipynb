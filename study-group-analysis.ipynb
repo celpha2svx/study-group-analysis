{
 "cells": [
  {
   "cell_type": "markdown",
   "id": "1361d2a6-1657-40e3-999a-0fce94690ad2",
   "metadata": {},
   "source": [
    "#   📊 Study Group Analysis: Impact on Exam Performance\n",
    "\n",
    "This project explores how study group participation and attendance affect student exam scores. Using a dataset of 50 students, we apply statistical techniques to uncover patterns, test hypotheses, and build predictive models."
   ]
  },
  {
   "cell_type": "markdown",
   "id": "bd00fe40-6529-4e15-91ec-1ca495a964c5",
   "metadata": {},
   "source": [
    "## Load the Data "
   ]
  },
  {
   "cell_type": "code",
   "execution_count": 6,
   "id": "a728b555-48bb-4e2f-a4a8-c8df5a9c6c31",
   "metadata": {},
   "outputs": [
    {
     "data": {
      "text/html": [
       "<div>\n",
       "<style scoped>\n",
       "    .dataframe tbody tr th:only-of-type {\n",
       "        vertical-align: middle;\n",
       "    }\n",
       "\n",
       "    .dataframe tbody tr th {\n",
       "        vertical-align: top;\n",
       "    }\n",
       "\n",
       "    .dataframe thead th {\n",
       "        text-align: right;\n",
       "    }\n",
       "</style>\n",
       "<table border=\"1\" class=\"dataframe\">\n",
       "  <thead>\n",
       "    <tr style=\"text-align: right;\">\n",
       "      <th></th>\n",
       "      <th>Name</th>\n",
       "      <th>Age</th>\n",
       "      <th>ExamScore</th>\n",
       "      <th>Attendance</th>\n",
       "      <th>StudyGroup</th>\n",
       "    </tr>\n",
       "  </thead>\n",
       "  <tbody>\n",
       "    <tr>\n",
       "      <th>0</th>\n",
       "      <td>Ada01</td>\n",
       "      <td>21</td>\n",
       "      <td>88</td>\n",
       "      <td>45</td>\n",
       "      <td>Yes</td>\n",
       "    </tr>\n",
       "    <tr>\n",
       "      <th>1</th>\n",
       "      <td>Kunle02</td>\n",
       "      <td>18</td>\n",
       "      <td>74</td>\n",
       "      <td>32</td>\n",
       "      <td>No</td>\n",
       "    </tr>\n",
       "    <tr>\n",
       "      <th>2</th>\n",
       "      <td>Tola03</td>\n",
       "      <td>20</td>\n",
       "      <td>95</td>\n",
       "      <td>58</td>\n",
       "      <td>Yes</td>\n",
       "    </tr>\n",
       "    <tr>\n",
       "      <th>3</th>\n",
       "      <td>Sofi04</td>\n",
       "      <td>19</td>\n",
       "      <td>65</td>\n",
       "      <td>22</td>\n",
       "      <td>No</td>\n",
       "    </tr>\n",
       "    <tr>\n",
       "      <th>4</th>\n",
       "      <td>Omar05</td>\n",
       "      <td>22</td>\n",
       "      <td>51</td>\n",
       "      <td>14</td>\n",
       "      <td>No</td>\n",
       "    </tr>\n",
       "  </tbody>\n",
       "</table>\n",
       "</div>"
      ],
      "text/plain": [
       "      Name  Age  ExamScore  Attendance StudyGroup\n",
       "0    Ada01   21         88          45        Yes\n",
       "1  Kunle02   18         74          32         No\n",
       "2   Tola03   20         95          58        Yes\n",
       "3   Sofi04   19         65          22         No\n",
       "4   Omar05   22         51          14         No"
      ]
     },
     "execution_count": 6,
     "metadata": {},
     "output_type": "execute_result"
    }
   ],
   "source": [
    "import pandas as pd \n",
    "\n",
    "df = pd.read_csv('Datas.csv')\n",
    "df.head()"
   ]
  },
  {
   "cell_type": "markdown",
   "id": "50795c9d-7678-41d4-893c-d99d4934f41d",
   "metadata": {},
   "source": [
    "## 🔧 Step 1: Encode StudyGroup\n",
    "\n",
    "We convert the categorical StudyGroup column into a binary format for analysis."
   ]
  },
  {
   "cell_type": "code",
   "execution_count": 8,
   "id": "5f35a6a9-9ff5-4bbd-ab69-6418b85cbde6",
   "metadata": {},
   "outputs": [
    {
     "data": {
      "text/html": [
       "<div>\n",
       "<style scoped>\n",
       "    .dataframe tbody tr th:only-of-type {\n",
       "        vertical-align: middle;\n",
       "    }\n",
       "\n",
       "    .dataframe tbody tr th {\n",
       "        vertical-align: top;\n",
       "    }\n",
       "\n",
       "    .dataframe thead th {\n",
       "        text-align: right;\n",
       "    }\n",
       "</style>\n",
       "<table border=\"1\" class=\"dataframe\">\n",
       "  <thead>\n",
       "    <tr style=\"text-align: right;\">\n",
       "      <th></th>\n",
       "      <th>Name</th>\n",
       "      <th>Age</th>\n",
       "      <th>ExamScore</th>\n",
       "      <th>Attendance</th>\n",
       "      <th>StudyGroup</th>\n",
       "      <th>StudyGroupEnc</th>\n",
       "    </tr>\n",
       "  </thead>\n",
       "  <tbody>\n",
       "    <tr>\n",
       "      <th>0</th>\n",
       "      <td>Ada01</td>\n",
       "      <td>21</td>\n",
       "      <td>88</td>\n",
       "      <td>45</td>\n",
       "      <td>Yes</td>\n",
       "      <td>1</td>\n",
       "    </tr>\n",
       "    <tr>\n",
       "      <th>1</th>\n",
       "      <td>Kunle02</td>\n",
       "      <td>18</td>\n",
       "      <td>74</td>\n",
       "      <td>32</td>\n",
       "      <td>No</td>\n",
       "      <td>0</td>\n",
       "    </tr>\n",
       "    <tr>\n",
       "      <th>2</th>\n",
       "      <td>Tola03</td>\n",
       "      <td>20</td>\n",
       "      <td>95</td>\n",
       "      <td>58</td>\n",
       "      <td>Yes</td>\n",
       "      <td>1</td>\n",
       "    </tr>\n",
       "    <tr>\n",
       "      <th>3</th>\n",
       "      <td>Sofi04</td>\n",
       "      <td>19</td>\n",
       "      <td>65</td>\n",
       "      <td>22</td>\n",
       "      <td>No</td>\n",
       "      <td>0</td>\n",
       "    </tr>\n",
       "    <tr>\n",
       "      <th>4</th>\n",
       "      <td>Omar05</td>\n",
       "      <td>22</td>\n",
       "      <td>51</td>\n",
       "      <td>14</td>\n",
       "      <td>No</td>\n",
       "      <td>0</td>\n",
       "    </tr>\n",
       "  </tbody>\n",
       "</table>\n",
       "</div>"
      ],
      "text/plain": [
       "      Name  Age  ExamScore  Attendance StudyGroup  StudyGroupEnc\n",
       "0    Ada01   21         88          45        Yes              1\n",
       "1  Kunle02   18         74          32         No              0\n",
       "2   Tola03   20         95          58        Yes              1\n",
       "3   Sofi04   19         65          22         No              0\n",
       "4   Omar05   22         51          14         No              0"
      ]
     },
     "execution_count": 8,
     "metadata": {},
     "output_type": "execute_result"
    }
   ],
   "source": [
    "df['StudyGroupEnc'] = df['StudyGroup'].map({'Yes': 1, 'No': 0})\n",
    "df.head()"
   ]
  },
  {
   "cell_type": "markdown",
   "id": "6c18455d-56d0-4e48-8f30-a39b449e0673",
   "metadata": {},
   "source": [
    "# Average of score and studygroup\n",
    "we calculate the average score of the exam scores and the study group"
   ]
  },
  {
   "cell_type": "code",
   "execution_count": 12,
   "id": "9786379b-0b9d-4b7f-aaae-ffdc70f683b7",
   "metadata": {},
   "outputs": [
    {
     "data": {
      "text/plain": [
       "ExamScore        73.90\n",
       "StudyGroupEnc     0.46\n",
       "dtype: float64"
      ]
     },
     "execution_count": 12,
     "metadata": {},
     "output_type": "execute_result"
    }
   ],
   "source": [
    "df[['ExamScore','StudyGroupEnc']].mean() \n"
   ]
  },
  {
   "cell_type": "code",
   "execution_count": 27,
   "id": "0d05c85b-4797-40fa-8746-6174dae7a794",
   "metadata": {
    "scrolled": true
   },
   "outputs": [
    {
     "data": {
      "image/png": "[encoded data removed]",
      "text/plain": [
       "<Figure size 640x480 with 1 Axes>"
      ]
     },
     "metadata": {},
     "output_type": "display_data"
    }
   ],
   "source": [
    "import seaborn as sns\n",
    "import matplotlib.pyplot as plt\n",
    "\n",
    "sns.barplot(x='StudyGroup', y='ExamScore', data=df)\n",
    "plt.title('Average ExamScore by Study Group')\n",
    "plt.ylabel('Average Score')\n",
    "plt.show()"
   ]
  },
  {
   "cell_type": "markdown",
   "id": "3896f676-7128-47fe-9092-3269e5b24d5e",
   "metadata": {},
   "source": [
    "# Confidence Interval\n",
    "we calculate the confidence interval to be  95%{1.96}"
   ]
  },
  {
   "cell_type": "code",
   "execution_count": 14,
   "id": "c96367aa-cdf3-45d0-bf07-4eccfe166741",
   "metadata": {},
   "outputs": [
    {
     "name": "stdout",
     "output_type": "stream",
     "text": [
      "95 percent  confidence interval :(0.320449,0.599551)\n"
     ]
    }
   ],
   "source": [
    "import numpy as np \n",
    "import scipy.stats as stats \n",
    "\n",
    "mean = np.mean(df['StudyGroupEnc'])\n",
    "std_dev = np.std(df['StudyGroupEnc'],ddof=1)\n",
    "n = len(df['StudyGroupEnc'])\n",
    "z = 1.96\n",
    "\n",
    "margin_error = z * (std_dev / np.sqrt(n))\n",
    "low_bound = mean - margin_error\n",
    "up_bound = mean + margin_error\n",
    "\n",
    "print(f'95 percent  confidence interval :({low_bound:2f},{up_bound:2f})')\n"
   ]
  },
  {
   "cell_type": "markdown",
   "id": "bae3d64c-610b-4bbb-b0a3-aef8eab94b43",
   "metadata": {},
   "source": [
    "# Hypothesis Testing \n",
    "we check the the group of the study group with more significant in the exam score using hypothesis testing "
   ]
  },
  {
   "cell_type": "code",
   "execution_count": 22,
   "id": "e071fb52-9329-4fff-9bdb-04ef0c9b8241",
   "metadata": {},
   "outputs": [
    {
     "name": "stdout",
     "output_type": "stream",
     "text": [
      "t_statistics 10.182190000484646\n",
      "p-Value 1.3978380685838396e-13\n"
     ]
    }
   ],
   "source": [
    "group_yes = df[df['StudyGroupEnc'] == 1]['ExamScore']\n",
    "group_no = df[df['StudyGroupEnc'] == 0]['ExamScore']\n",
    "\n",
    "t_stat , p_value = stats.ttest_ind(group_yes,group_no)\n",
    "\n",
    "print(\"t_statistics\",t_stat)\n",
    "print(\"p-Value\",p_value)"
   ]
  },
  {
   "cell_type": "code",
   "execution_count": 30,
   "id": "81ee529d-2259-4813-bfb5-02ca38fcb68d",
   "metadata": {},
   "outputs": [
    {
     "data": {
      "image/png": "[encoded data removed]",
      "text/plain": [
       "<Figure size 640x480 with 1 Axes>"
      ]
     },
     "metadata": {},
     "output_type": "display_data"
    }
   ],
   "source": [
    "sns.boxplot(x='StudyGroup', y='ExamScore', data=df)\n",
    "plt.title('Score Distribution by Study Group')\n",
    "plt.show()"
   ]
  },
  {
   "cell_type": "markdown",
   "id": "9880b246-442f-47d3-aa2e-f4c4c5288ae9",
   "metadata": {},
   "source": [
    "#  Corrolation \n",
    "we check the one that has more corrolation with the exam score between age and attendance "
   ]
  },
  {
   "cell_type": "markdown",
   "id": "e475d7a5-d74f-41f9-9f03-347e9132441e",
   "metadata": {},
   "source": [
    "### Age vs Score"
   ]
  },
  {
   "cell_type": "code",
   "execution_count": 16,
   "id": "418730e5-20cf-4f02-aa09-44984e1af924",
   "metadata": {},
   "outputs": [
    {
     "data": {
      "text/html": [
       "<div>\n",
       "<style scoped>\n",
       "    .dataframe tbody tr th:only-of-type {\n",
       "        vertical-align: middle;\n",
       "    }\n",
       "\n",
       "    .dataframe tbody tr th {\n",
       "        vertical-align: top;\n",
       "    }\n",
       "\n",
       "    .dataframe thead th {\n",
       "        text-align: right;\n",
       "    }\n",
       "</style>\n",
       "<table border=\"1\" class=\"dataframe\">\n",
       "  <thead>\n",
       "    <tr style=\"text-align: right;\">\n",
       "      <th></th>\n",
       "      <th>Age</th>\n",
       "      <th>ExamScore</th>\n",
       "    </tr>\n",
       "  </thead>\n",
       "  <tbody>\n",
       "    <tr>\n",
       "      <th>Age</th>\n",
       "      <td>1.000000</td>\n",
       "      <td>-0.017578</td>\n",
       "    </tr>\n",
       "    <tr>\n",
       "      <th>ExamScore</th>\n",
       "      <td>-0.017578</td>\n",
       "      <td>1.000000</td>\n",
       "    </tr>\n",
       "  </tbody>\n",
       "</table>\n",
       "</div>"
      ],
      "text/plain": [
       "                Age  ExamScore\n",
       "Age        1.000000  -0.017578\n",
       "ExamScore -0.017578   1.000000"
      ]
     },
     "execution_count": 16,
     "metadata": {},
     "output_type": "execute_result"
    }
   ],
   "source": [
    "df[['Age','ExamScore']].corr()"
   ]
  },
  {
   "cell_type": "markdown",
   "id": "56dc2640-f345-4b8d-a4c7-c6c8b4dc742d",
   "metadata": {},
   "source": [
    "### Attendance vs Score"
   ]
  },
  {
   "cell_type": "code",
   "execution_count": 17,
   "id": "f62cf377-fdc7-4bc9-af63-627aa305e1e8",
   "metadata": {},
   "outputs": [
    {
     "data": {
      "text/html": [
       "<div>\n",
       "<style scoped>\n",
       "    .dataframe tbody tr th:only-of-type {\n",
       "        vertical-align: middle;\n",
       "    }\n",
       "\n",
       "    .dataframe tbody tr th {\n",
       "        vertical-align: top;\n",
       "    }\n",
       "\n",
       "    .dataframe thead th {\n",
       "        text-align: right;\n",
       "    }\n",
       "</style>\n",
       "<table border=\"1\" class=\"dataframe\">\n",
       "  <thead>\n",
       "    <tr style=\"text-align: right;\">\n",
       "      <th></th>\n",
       "      <th>Attendance</th>\n",
       "      <th>ExamScore</th>\n",
       "    </tr>\n",
       "  </thead>\n",
       "  <tbody>\n",
       "    <tr>\n",
       "      <th>Attendance</th>\n",
       "      <td>1.000000</td>\n",
       "      <td>0.968898</td>\n",
       "    </tr>\n",
       "    <tr>\n",
       "      <th>ExamScore</th>\n",
       "      <td>0.968898</td>\n",
       "      <td>1.000000</td>\n",
       "    </tr>\n",
       "  </tbody>\n",
       "</table>\n",
       "</div>"
      ],
      "text/plain": [
       "            Attendance  ExamScore\n",
       "Attendance    1.000000   0.968898\n",
       "ExamScore     0.968898   1.000000"
      ]
     },
     "execution_count": 17,
     "metadata": {},
     "output_type": "execute_result"
    }
   ],
   "source": [
    "df[['Attendance','ExamScore']].corr()"
   ]
  },
  {
   "cell_type": "code",
   "execution_count": 31,
   "id": "a1f4d674-874f-4ea9-b130-e7a0a06ff620",
   "metadata": {},
   "outputs": [
    {
     "data": {
      "image/png": "[encoded data removed]",
      "text/plain": [
       "<Figure size 640x480 with 1 Axes>"
      ]
     },
     "metadata": {},
     "output_type": "display_data"
    }
   ],
   "source": [
    "sns.scatterplot(x='Attendance', y='ExamScore', data=df)\n",
    "sns.regplot(x='Attendance', y='ExamScore', data=df, ci=None, color='red')\n",
    "plt.title('Attendance vs ExamScore')\n",
    "plt.show()"
   ]
  },
  {
   "cell_type": "markdown",
   "id": "9b0420b2-e1cf-46a6-a031-418c55937c1d",
   "metadata": {},
   "source": [
    "# Regression \n",
    "Then we calculate the prediction of the exam score from the attendance using linear regression"
   ]
  },
  {
   "cell_type": "code",
   "execution_count": 23,
   "id": "32f32c7d-528f-4cf6-86ec-27c07a0264d8",
   "metadata": {
    "scrolled": true
   },
   "outputs": [
    {
     "name": "stdout",
     "output_type": "stream",
     "text": [
      "                            OLS Regression Results                            \n",
      "==============================================================================\n",
      "Dep. Variable:              ExamScore   R-squared:                       0.939\n",
      "Model:                            OLS   Adj. R-squared:                  0.937\n",
      "Method:                 Least Squares   F-statistic:                     735.9\n",
      "Date:                Sat, 04 Oct 2025   Prob (F-statistic):           9.13e-31\n",
      "Time:                        13:48:47   Log-Likelihood:                -139.39\n",
      "No. Observations:                  50   AIC:                             282.8\n",
      "Df Residuals:                      48   BIC:                             286.6\n",
      "Df Model:                           1                                         \n",
      "Covariance Type:            nonrobust                                         \n",
      "==============================================================================\n",
      "                 coef    std err          t      P>|t|      [0.025      0.975]\n",
      "------------------------------------------------------------------------------\n",
      "const         37.3466      1.462     25.543      0.000      34.407      40.286\n",
      "Attendance     1.0326      0.038     27.127      0.000       0.956       1.109\n",
      "==============================================================================\n",
      "Omnibus:                        6.436   Durbin-Watson:                   1.806\n",
      "Prob(Omnibus):                  0.040   Jarque-Bera (JB):               10.275\n",
      "Skew:                           0.055   Prob(JB):                      0.00587\n",
      "Kurtosis:                       5.218   Cond. No.                         99.0\n",
      "==============================================================================\n",
      "\n",
      "Notes:\n",
      "[1] Standard Errors assume that the covariance matrix of the errors is correctly specified.\n"
     ]
    }
   ],
   "source": [
    "import statsmodels.api as sm \n",
    "\n",
    "x  = df['Attendance']\n",
    "y = df ['ExamScore']\n",
    "\n",
    "x = sm.add_constant(x)\n",
    "model = sm.OLS(y,x).fit()\n",
    "\n",
    "print(model.summary())"
   ]
  },
  {
   "cell_type": "code",
   "execution_count": 32,
   "id": "9689c526-8950-4304-b98e-1cecee38e628",
   "metadata": {},
   "outputs": [
    {
     "data": {
      "image/png": "[encoded data removed]",
      "text/plain": [
       "<Figure size 640x480 with 1 Axes>"
      ]
     },
     "metadata": {},
     "output_type": "display_data"
    }
   ],
   "source": [
    "sns.histplot(df['ExamScore'], bins=10, kde=True)\n",
    "plt.title('Distribution of Exam Scores')\n",
    "plt.xlabel('Score')\n",
    "plt.ylabel('Frequency')\n",
    "plt.show()"
   ]
  },
  {
   "cell_type": "markdown",
   "id": "72a79660-e264-431a-ab75-34dfa6cd8a5d",
   "metadata": {},
   "source": [
    "## ✅ Summary of Findings\n",
    "\n",
    "- Students who joined the study group scored significantly higher (p < 0.0000000000001)\n",
    "- Attendance is a strong predictor of performance (R² = 0.939)\n",
    "- Age has no meaningful impact on scores\n",
    "\n",
    "This analysis demonstrates how participation and consistency drive academic success."
   ]
  }
 ],
 "metadata": {
  "kernelspec": {
   "display_name": "Python 3 (ipykernel)",
   "language": "python",
   "name": "python3"
  },
  "language_info": {
   "codemirror_mode": {
    "name": "ipython",
    "version": 3
   },
   "file_extension": ".py",
   "mimetype": "text/x-python",
   "name": "python",
   "nbconvert_exporter": "python",
   "pygments_lexer": "ipython3",
   "version": "3.13.5"
  }
 },
 "nbformat": 4,
 "nbformat_minor": 5
}
